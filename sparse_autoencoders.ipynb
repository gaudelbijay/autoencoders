{
 "cells": [
  {
   "cell_type": "code",
   "execution_count": 1,
   "metadata": {},
   "outputs": [],
   "source": [
    "import torch\n",
    "import torch.nn as nn\n",
    "import torch.nn.functional as F\n",
    "import torch.optim as optim\n",
    "import torchvision\n",
    "import torchvision.datasets as datasets\n",
    "import torchvision.transforms as transforms\n",
    "from torchvision.utils import save_image\n",
    "\n",
    "import os\n",
    "import time\n",
    "import numpy as np\n",
    "import matplotlib.pyplot as plt"
   ]
  },
  {
   "cell_type": "markdown",
   "metadata": {},
   "source": [
    "### Parameters"
   ]
  },
  {
   "cell_type": "code",
   "execution_count": 2,
   "metadata": {},
   "outputs": [],
   "source": [
    "params = {\n",
    "    \"b_size\": 32, # batch size \n",
    "    \"num_classes\": 10, # number of classes (0,1,2,...,9)\n",
    "    \"epochs\": 5, # total number of epochs\n",
    "    \"lr\": 1e-4, # learning rate\n",
    "    \"img_size\": (28,28), # image shape\n",
    "    \"in_channel\": 1, #input channel\n",
    "    \"ADD_SPARSITY\":True, # for sparsity autoencoder\n",
    "    \"BETA\": 0.001,\n",
    "    \"RHO\": 0.05,\n",
    "}"
   ]
  },
  {
   "cell_type": "markdown",
   "metadata": {},
   "source": [
    "### Dataloader"
   ]
  },
  {
   "cell_type": "code",
   "execution_count": 3,
   "metadata": {},
   "outputs": [],
   "source": [
    "dataloader_train = torch.utils.data.DataLoader(\n",
    "    datasets.FashionMNIST(\n",
    "        \"./data/fashion_mnist\",\n",
    "        train=True,\n",
    "        download=True,\n",
    "        transform=transforms.Compose(\n",
    "            [transforms.ToTensor()]\n",
    "        ),\n",
    "    ),\n",
    "    batch_size=params[\"b_size\"],\n",
    "    shuffle=True,\n",
    ")\n",
    "\n",
    "\n",
    "dataloader_test = torch.utils.data.DataLoader(\n",
    "    datasets.FashionMNIST(\n",
    "        \"./data/fashion_mnist\",\n",
    "        train=False,\n",
    "        download=True,\n",
    "        transform=transforms.Compose(\n",
    "            [transforms.ToTensor()]\n",
    "        ),\n",
    "    ),\n",
    "    batch_size=params[\"b_size\"],\n",
    "    shuffle=True,\n",
    ")"
   ]
  },
  {
   "cell_type": "markdown",
   "metadata": {},
   "source": [
    "### Sample visualization"
   ]
  },
  {
   "cell_type": "code",
   "execution_count": 4,
   "metadata": {},
   "outputs": [],
   "source": [
    "sample_batch = next(iter(dataloader_test))"
   ]
  },
  {
   "cell_type": "code",
   "execution_count": 5,
   "metadata": {},
   "outputs": [
    {
     "data": {
      "image/png": "[encoded data removed]",
      "text/plain": [
       "<Figure size 432x288 with 6 Axes>"
      ]
     },
     "metadata": {
      "needs_background": "light"
     },
     "output_type": "display_data"
    }
   ],
   "source": [
    "fig = plt.figure()\n",
    "for i in range(6):\n",
    "    plt.subplot(2,3,i+1)\n",
    "    plt.tight_layout()\n",
    "    plt.imshow(torch.squeeze(sample_batch[0][i]), cmap='gray', interpolation=None) # use cmap='gray' for the gray images\n",
    "    plt.title(f\"Ground Truth:{sample_batch[1][i]}\")\n",
    "    "
   ]
  },
  {
   "cell_type": "markdown",
   "metadata": {},
   "source": [
    "#### Some utils function for: device selection, make directory for compressed image, and function to save images"
   ]
  },
  {
   "cell_type": "code",
   "execution_count": 6,
   "metadata": {},
   "outputs": [],
   "source": [
    "def get_device():\n",
    "    if torch.cuda.is_available():\n",
    "        device = 'cuda:0'\n",
    "    else:\n",
    "        device = 'cpu'\n",
    "    return device"
   ]
  },
  {
   "cell_type": "code",
   "execution_count": 7,
   "metadata": {},
   "outputs": [],
   "source": [
    "def make_dir():\n",
    "    image_dir = \"./output/images\"\n",
    "    if not os.path.exists(image_dir):\n",
    "        os.makedirs(image_dir)\n",
    "make_dir()"
   ]
  },
  {
   "cell_type": "code",
   "execution_count": 8,
   "metadata": {},
   "outputs": [],
   "source": [
    "# for saving the reconstructed images\n",
    "def save_decoded_image(img, name):\n",
    "    img = img.view(img.size(0), 1, 28, 28)\n",
    "    save_image(img,name)"
   ]
  },
  {
   "cell_type": "markdown",
   "metadata": {},
   "source": [
    "## Create Sparse variational Encoder network"
   ]
  },
  {
   "cell_type": "code",
   "execution_count": 9,
   "metadata": {},
   "outputs": [],
   "source": [
    "class SAENet(nn.Module): # sparse autoencoders\n",
    "    def __init__(self,):\n",
    "        super(SAENet, self).__init__()\n",
    "        \n",
    "        # Encoder \n",
    "        self.enc1 = nn.Linear(in_features=784, out_features=256)\n",
    "        self.enc2 = nn.Linear(in_features=256, out_features=128)\n",
    "        self.enc3 = nn.Linear(in_features=128, out_features=64)\n",
    "        self.enc4 = nn.Linear(in_features=64, out_features=32)\n",
    "        self.enc5 = nn.Linear(in_features=32, out_features=16)\n",
    "        \n",
    "        # Decoder \n",
    "        self.dec1 = nn.Linear(in_features=16, out_features=32)\n",
    "        self.dec2 = nn.Linear(in_features=32, out_features=64)\n",
    "        self.dec3 = nn.Linear(in_features=64, out_features=128)\n",
    "        self.dec4 = nn.Linear(in_features=128, out_features=256)\n",
    "        self.dec5 = nn.Linear(in_features=256, out_features=784)\n",
    "        \n",
    "    def forward(self, img):\n",
    "        # Encoder\n",
    "        img = F.relu(self.enc1(img))\n",
    "        img = F.relu(self.enc2(img))\n",
    "        img = F.relu(self.enc3(img))\n",
    "        img = F.relu(self.enc4(img))\n",
    "        img = F.relu(self.enc5(img))\n",
    "        \n",
    "        # Decoder \n",
    "        img = F.relu(self.dec1(img))\n",
    "        img = F.relu(self.dec2(img))\n",
    "        img = F.relu(self.dec3(img))\n",
    "        img = F.relu(self.dec4(img))\n",
    "        img = F.relu(self.dec5(img))\n",
    "        \n",
    "        return img"
   ]
  },
  {
   "cell_type": "code",
   "execution_count": 10,
   "metadata": {},
   "outputs": [],
   "source": [
    "model = SAENet().to(get_device())"
   ]
  },
  {
   "cell_type": "code",
   "execution_count": 11,
   "metadata": {},
   "outputs": [
    {
     "data": {
      "text/plain": [
       "[Linear(in_features=784, out_features=256, bias=True),\n",
       " Linear(in_features=256, out_features=128, bias=True),\n",
       " Linear(in_features=128, out_features=64, bias=True),\n",
       " Linear(in_features=64, out_features=32, bias=True),\n",
       " Linear(in_features=32, out_features=16, bias=True),\n",
       " Linear(in_features=16, out_features=32, bias=True),\n",
       " Linear(in_features=32, out_features=64, bias=True),\n",
       " Linear(in_features=64, out_features=128, bias=True),\n",
       " Linear(in_features=128, out_features=256, bias=True),\n",
       " Linear(in_features=256, out_features=784, bias=True)]"
      ]
     },
     "execution_count": 11,
     "metadata": {},
     "output_type": "execute_result"
    }
   ],
   "source": [
    "model_children = list(model.children())\n",
    "model_children"
   ]
  },
  {
   "cell_type": "markdown",
   "metadata": {},
   "source": [
    "### Loss function and optimizer selection"
   ]
  },
  {
   "cell_type": "code",
   "execution_count": 12,
   "metadata": {},
   "outputs": [],
   "source": [
    "criterion = nn.MSELoss()\n",
    "optimizer = optim.Adam(model.parameters(), lr=params['lr'])"
   ]
  },
  {
   "cell_type": "markdown",
   "metadata": {},
   "source": [
    "### Sparsity and KL divergence"
   ]
  },
  {
   "cell_type": "code",
   "execution_count": 13,
   "metadata": {},
   "outputs": [],
   "source": [
    "def kl_divergence(rho, rho_hat):\n",
    "    rho_hat = torch.mean(torch.sigmoid(rho_hat), 1) # sigmoid because we need the probability distributions\n",
    "    rho = torch.tensor([rho] * len(rho_hat)).to(get_device())\n",
    "    return torch.sum(rho * torch.log(rho/rho_hat) + (1 - rho) * torch.log((1 - rho)/(1 - rho_hat)))"
   ]
  },
  {
   "cell_type": "code",
   "execution_count": 14,
   "metadata": {},
   "outputs": [],
   "source": [
    "# define the sparse loss function\n",
    "def sparse_loss(rho, images):\n",
    "    values = images\n",
    "    loss = 0\n",
    "    for i in range(len(model_children)):\n",
    "        values = model_children[i](values)\n",
    "        loss += kl_divergence(rho, values)\n",
    "    return loss"
   ]
  },
  {
   "cell_type": "markdown",
   "metadata": {},
   "source": [
    "### Training function"
   ]
  },
  {
   "cell_type": "code",
   "execution_count": 15,
   "metadata": {},
   "outputs": [],
   "source": [
    "def fit(model, dataloader, epoch):\n",
    "    print(\"Training.....\")\n",
    "    model.train()\n",
    "    running_loss = 0.0 \n",
    "    counter = 0\n",
    "    for i,data in enumerate(dataloader):\n",
    "#     for i, data in tqdm(enumerate(dataloader), total=int(len(dataloader_train)/dataloader.batch_size)):\n",
    "        counter += 1 \n",
    "        img,_ = data \n",
    "        img = img.view(img.size(0), -1)\n",
    "        optimizer.zero_grad()\n",
    "        outputs = model(img)\n",
    "        mse_loss = criterion(outputs, img)\n",
    "        if params[\"ADD_SPARSITY\"]:\n",
    "            sparsity = sparse_loss(params['RHO'], img)\n",
    "            loss = mse_loss+params[\"BETA\"]*sparsity\n",
    "        else:\n",
    "            loss = mse_loss\n",
    "        loss.backward()\n",
    "        optimizer.step()\n",
    "        \n",
    "        running_loss += loss.item()\n",
    "        \n",
    "        \n",
    "    epoch_loss = running_loss/counter\n",
    "    print(f\"Training Loss: {epoch_loss:.3f}\")\n",
    "    outputs = outputs.view(outputs.size(0), 1, 28, 28).cpu().data\n",
    "    save_image(outputs, f\"./output/images/reconstruction{epoch}.png\")\n",
    "    \n",
    "    return epoch_loss"
   ]
  },
  {
   "cell_type": "markdown",
   "metadata": {},
   "source": [
    "### Validation function"
   ]
  },
  {
   "cell_type": "code",
   "execution_count": 16,
   "metadata": {},
   "outputs": [],
   "source": [
    "def validate(model, dataloader, epoch):\n",
    "    print(\"Validating.....\")\n",
    "    model.eval()\n",
    "    running_loss = 0.0 \n",
    "    counter = 0 \n",
    "    with torch.no_grad():\n",
    "        for i, data in enumerate(dataloader):\n",
    "            counter += 1\n",
    "            img, _ = data \n",
    "            img = img.to(get_device())\n",
    "            img = img.view(img.size(0), -1)\n",
    "            outputs = model(img)\n",
    "            loss = criterion(outputs, img)\n",
    "            running_loss += loss.item()\n",
    "    epoch_loss = running_loss/counter\n",
    "    print(f\"val loss: {epoch_loss:.3f}\")\n",
    "    # Save Reconstructed Image\n",
    "    outputs = outputs.view(outputs.size(0),1,28,28).cpu().data\n",
    "    save_image(outputs, f\"./output/images/reconstuction_val{epoch}.png\")\n",
    "    \n",
    "    return epoch_loss"
   ]
  },
  {
   "cell_type": "markdown",
   "metadata": {},
   "source": [
    "### Executing Training and Validation Function"
   ]
  },
  {
   "cell_type": "code",
   "execution_count": 17,
   "metadata": {},
   "outputs": [
    {
     "name": "stdout",
     "output_type": "stream",
     "text": [
      "(1/5)\n",
      "Training.....\n",
      "Training Loss: 0.096\n",
      "Validating.....\n",
      "val loss: 0.061\n",
      "(2/5)\n",
      "Training.....\n",
      "Training Loss: 0.060\n",
      "Validating.....\n",
      "val loss: 0.041\n",
      "(3/5)\n",
      "Training.....\n",
      "Training Loss: 0.048\n",
      "Validating.....\n",
      "val loss: 0.038\n",
      "(4/5)\n",
      "Training.....\n",
      "Training Loss: 0.044\n",
      "Validating.....\n",
      "val loss: 0.036\n",
      "(5/5)\n",
      "Training.....\n",
      "Training Loss: 0.043\n",
      "Validating.....\n",
      "val loss: 0.035\n",
      "3.948 minutes\n"
     ]
    }
   ],
   "source": [
    "train_loss = []\n",
    "val_loss = []\n",
    "start = time.time()\n",
    "for epoch in range(params['epochs']):\n",
    "    print(f\"({epoch+1}/{params['epochs']})\")\n",
    "    train_epoch_loss = fit(model, dataloader_train, epoch)\n",
    "    val_epoch_loss = validate(model, dataloader_test, epoch)\n",
    "    train_loss.append(train_epoch_loss)\n",
    "    val_loss.append(val_epoch_loss)\n",
    "end = time.time()\n",
    "print(f\"{(end-start)/60:.3f} minutes\")"
   ]
  },
  {
   "cell_type": "code",
   "execution_count": 18,
   "metadata": {},
   "outputs": [
    {
     "data": {
      "image/png": "[encoded data removed]",
      "text/plain": [
       "<Figure size 720x504 with 1 Axes>"
      ]
     },
     "metadata": {
      "needs_background": "light"
     },
     "output_type": "display_data"
    }
   ],
   "source": [
    "plt.figure(figsize=(10,7))\n",
    "plt.plot(train_loss, color='orange', label='train_loss')\n",
    "plt.plot(val_loss, color='red', label='validation loss')\n",
    "plt.xlabel(\"Epochs\")\n",
    "plt.ylabel(\"Loss\")\n",
    "plt.legend()\n",
    "plt.savefig(\"./output/loss.png\")\n",
    "plt.show()"
   ]
  },
  {
   "cell_type": "markdown",
   "metadata": {},
   "source": [
    "### Save the trained Model"
   ]
  },
  {
   "cell_type": "code",
   "execution_count": 19,
   "metadata": {},
   "outputs": [],
   "source": [
    "torch.save(model.state_dict(), f\"./output/sparse_autoEncoder.pth\")"
   ]
  },
  {
   "cell_type": "code",
   "execution_count": null,
   "metadata": {},
   "outputs": [],
   "source": []
  }
 ],
 "metadata": {
  "kernelspec": {
   "display_name": "Python 3",
   "language": "python",
   "name": "python3"
  },
  "language_info": {
   "codemirror_mode": {
    "name": "ipython",
    "version": 3
   },
   "file_extension": ".py",
   "mimetype": "text/x-python",
   "name": "python",
   "nbconvert_exporter": "python",
   "pygments_lexer": "ipython3",
   "version": "3.6.8"
  }
 },
 "nbformat": 4,
 "nbformat_minor": 4
}
