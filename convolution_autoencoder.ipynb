{
 "cells": [
  {
   "cell_type": "markdown",
   "metadata": {},
   "source": [
    "### Import Libraries:"
   ]
  },
  {
   "cell_type": "code",
   "execution_count": 1,
   "metadata": {},
   "outputs": [],
   "source": [
    "import torch\n",
    "import torch.nn as nn\n",
    "import torch.nn.functional as F\n",
    "import torch.optim as optim\n",
    "import torchvision\n",
    "import torchvision.datasets as datasets\n",
    "import torchvision.transforms as transforms\n",
    "from torchvision.utils import save_image\n",
    "\n",
    "import os\n",
    "import time\n",
    "import numpy as np\n",
    "import matplotlib.pyplot as plt"
   ]
  },
  {
   "cell_type": "markdown",
   "metadata": {},
   "source": [
    "### Simple Parameter Initialization:"
   ]
  },
  {
   "cell_type": "code",
   "execution_count": 2,
   "metadata": {},
   "outputs": [],
   "source": [
    "params = {\n",
    "    \"b_size\": , # batch size \n",
    "    \"num_classes\": 10, # number of classes (0,1,2,...,9)\n",
    "    \"epochs\": 5, # total number of epochs\n",
    "    \"lr\": 1e-4, # learning rate\n",
    "}"
   ]
  },
  {
   "cell_type": "markdown",
   "metadata": {},
   "source": [
    "### Data Loader"
   ]
  },
  {
   "cell_type": "code",
   "execution_count": 3,
   "metadata": {},
   "outputs": [],
   "source": [
    "dataloader_train = torch.utils.data.DataLoader(\n",
    "    datasets.FashionMNIST(\n",
    "        \"./data/fashion_mnist\",\n",
    "        train=True,\n",
    "        download=True,\n",
    "        transform=transforms.Compose(\n",
    "            [transforms.ToTensor()]\n",
    "        ),\n",
    "    ),\n",
    "    batch_size=params[\"b_size\"],\n",
    "    shuffle=True,\n",
    ")\n",
    "\n",
    "\n",
    "dataloader_test = torch.utils.data.DataLoader(\n",
    "    datasets.FashionMNIST(\n",
    "        \"./data/fashion_mnist\",\n",
    "        train=False,\n",
    "        download=True,\n",
    "        transform=transforms.Compose(\n",
    "            [transforms.ToTensor()]\n",
    "        ),\n",
    "    ),\n",
    "    batch_size=params[\"b_size\"],\n",
    "    shuffle=True,\n",
    ")"
   ]
  },
  {
   "cell_type": "markdown",
   "metadata": {},
   "source": [
    "### Simple Visualization:"
   ]
  },
  {
   "cell_type": "code",
   "execution_count": 4,
   "metadata": {},
   "outputs": [
    {
     "data": {
      "image/png": "[encoded data removed]",
      "text/plain": [
       "<Figure size 432x288 with 6 Axes>"
      ]
     },
     "metadata": {
      "needs_background": "light"
     },
     "output_type": "display_data"
    }
   ],
   "source": [
    "sample_batch = next(iter(dataloader_test))\n",
    "\n",
    "fig = plt.figure()\n",
    "for i in range(6):\n",
    "    plt.subplot(2,3,i+1)\n",
    "    plt.tight_layout()\n",
    "    plt.imshow(torch.squeeze(sample_batch[0][i]), cmap='gray', interpolation=None) # use cmap='gray' for the gray images\n",
    "    plt.title(f\"Ground Truth:{sample_batch[1][i]}\")\n",
    "    "
   ]
  },
  {
   "cell_type": "markdown",
   "metadata": {},
   "source": [
    "### Utils Functions:"
   ]
  },
  {
   "cell_type": "code",
   "execution_count": 5,
   "metadata": {},
   "outputs": [],
   "source": [
    "def get_device():\n",
    "    if torch.cuda.is_available():\n",
    "        device = 'cuda:0'\n",
    "    else:\n",
    "        device = 'cpu'\n",
    "    return device\n",
    "\n",
    "def make_dir():\n",
    "    image_dir = \"./output/images\"\n",
    "    if not os.path.exists(image_dir):\n",
    "        os.makedirs(image_dir)\n",
    "make_dir()\n",
    "\n",
    "# for saving the reconstructed images\n",
    "def save_decoded_image(img, name):\n",
    "    img = img.view(img.size(0), 1, 28, 28)\n",
    "    save_image(img,name)"
   ]
  },
  {
   "cell_type": "markdown",
   "metadata": {},
   "source": [
    "### Convolution AutoEncoder Model:"
   ]
  },
  {
   "cell_type": "code",
   "execution_count": 6,
   "metadata": {},
   "outputs": [],
   "source": [
    "class ConvVAE(nn.Module):\n",
    "    def __init__(self):\n",
    "        super(ConvVAE, self).__init__()\n",
    "        # Encoder \n",
    "        #input: 28*28*1\n",
    "        self.enc1 = nn.Conv2d(in_channels=1, out_channels=16, kernel_size=3, stride=1, padding=0)\n",
    "        #26*26*16\n",
    "        self.enc2 = nn.Conv2d(in_channels=16, out_channels=32, kernel_size=3, stride=1, padding=0)\n",
    "        #24*24*32\n",
    "        self.enc3 = nn.Conv2d(in_channels=32, out_channels=64, kernel_size=3, stride=1, padding=0)\n",
    "        #22*22*64\n",
    "        self.enc4 = nn.Conv2d(in_channels=64, out_channels=128, kernel_size=3, stride=1, padding=0)\n",
    "        #20*20*128\n",
    "        self.enc5 = nn.Conv2d(in_channels=128, out_channels=16, kernel_size=3, stride=1, padding=0)\n",
    "        #output: 18*18*16\n",
    "        \n",
    "        # Decoder\n",
    "        #input: 18*18*16\n",
    "        self.dec1 = nn.ConvTranspose2d(in_channels=16, out_channels=128, kernel_size=3, stride=1, padding=0)\n",
    "        #20*20*128\n",
    "        self.dec2 = nn.ConvTranspose2d(in_channels=128, out_channels=64, kernel_size=3, stride=1, padding=0)\n",
    "        #22*22*64\n",
    "        self.dec3 = nn.ConvTranspose2d(in_channels=64, out_channels=32, kernel_size=3, stride=1, padding=0)\n",
    "        #24*24*32\n",
    "        self.dec4 = nn.ConvTranspose2d(in_channels=32, out_channels=16, kernel_size=3, stride=1, padding=0)\n",
    "        #26*26*16\n",
    "        self.dec5 = nn.ConvTranspose2d(in_channels=16, out_channels=1, kernel_size=3, stride=1, padding=0)\n",
    "        #output: 28*28*1\n",
    "        \n",
    "    def reparameterize(self, mu, logvar):\n",
    "        std = torch.exp(0.5*logvar)\n",
    "        eps = torch.randn_like(std)\n",
    "\n",
    "        return mu+eps*std\n",
    "        \n",
    "    def encode(self, img):\n",
    "        img = F.relu(self.enc1(img))\n",
    "        img = F.relu(self.enc2(img))\n",
    "        img = F.relu(self.enc3(img))\n",
    "        img = F.relu(self.enc4(img))\n",
    "        img = F.relu(self.enc5(img))\n",
    "\n",
    "        return img\n",
    "        \n",
    "    def decode(self, img):\n",
    "        img = F.relu(self.dec1(img))\n",
    "        img = F.relu(self.dec2(img))\n",
    "        img = F.relu(self.dec3(img))\n",
    "        img = F.relu(self.dec4(img))\n",
    "        img = torch.sigmoid(self.dec5(img))\n",
    "\n",
    "        return img\n",
    "\n",
    "    def forward(self, img):\n",
    "        img = self.encode(img)\n",
    "        mu,logvar = img, img\n",
    "        z = self.reparameterize(mu, logvar)\n",
    "        img = self.decode(z)\n",
    "\n",
    "        return img, mu, logvar"
   ]
  },
  {
   "cell_type": "code",
   "execution_count": 7,
   "metadata": {},
   "outputs": [
    {
     "name": "stdout",
     "output_type": "stream",
     "text": [
      "ConvVAE(\n",
      "  (enc1): Conv2d(1, 16, kernel_size=(3, 3), stride=(1, 1))\n",
      "  (enc2): Conv2d(16, 32, kernel_size=(3, 3), stride=(1, 1))\n",
      "  (enc3): Conv2d(32, 64, kernel_size=(3, 3), stride=(1, 1))\n",
      "  (enc4): Conv2d(64, 128, kernel_size=(3, 3), stride=(1, 1))\n",
      "  (enc5): Conv2d(128, 16, kernel_size=(3, 3), stride=(1, 1))\n",
      "  (dec1): ConvTranspose2d(16, 128, kernel_size=(3, 3), stride=(1, 1))\n",
      "  (dec2): ConvTranspose2d(128, 64, kernel_size=(3, 3), stride=(1, 1))\n",
      "  (dec3): ConvTranspose2d(64, 32, kernel_size=(3, 3), stride=(1, 1))\n",
      "  (dec4): ConvTranspose2d(32, 16, kernel_size=(3, 3), stride=(1, 1))\n",
      "  (dec5): ConvTranspose2d(16, 1, kernel_size=(3, 3), stride=(1, 1))\n",
      ")\n"
     ]
    }
   ],
   "source": [
    "model = ConvVAE().to(get_device())\n",
    "print(model)"
   ]
  },
  {
   "cell_type": "markdown",
   "metadata": {},
   "source": [
    "### Loss Function and Optimizer Selection:"
   ]
  },
  {
   "cell_type": "code",
   "execution_count": 8,
   "metadata": {},
   "outputs": [],
   "source": [
    "criterion = nn.BCELoss(reduction='sum')\n",
    "optimizer = optim.Adam(model.parameters(), lr=params['lr'])"
   ]
  },
  {
   "cell_type": "code",
   "execution_count": 9,
   "metadata": {},
   "outputs": [],
   "source": [
    "def final_loss(bce_loss, mu, logvar):\n",
    "    \"\"\"\n",
    "    This function will add the reconstruction loss (BCELoss) and the \n",
    "    KL-Divergence.\n",
    "    KL-Divergence = 0.5 * sum(1 + log(sigma^2) - mu^2 - sigma^2)\n",
    "    :param bce_loss: recontruction loss\n",
    "    :param mu: the mean from the latent vector\n",
    "    :param logvar: log variance from the latent vector\n",
    "    \"\"\"\n",
    "    BCE = bce_loss \n",
    "    KLD = -0.5 * torch.sum(1 + logvar - mu.pow(2) - logvar.exp())\n",
    "    return BCE + KLD"
   ]
  },
  {
   "cell_type": "markdown",
   "metadata": {},
   "source": [
    "### Training Function"
   ]
  },
  {
   "cell_type": "code",
   "execution_count": 10,
   "metadata": {},
   "outputs": [],
   "source": [
    "def fit(model, dataloader, epoch):\n",
    "    print(\"Training.....\")\n",
    "    model.train()\n",
    "    running_loss = 0.0 \n",
    "    counter = 0\n",
    "    for i,data in enumerate(dataloader):\n",
    "#     for i, data in tqdm(enumerate(dataloader), total=int(len(dataloader_train)/dataloader.batch_size)):\n",
    "        counter += 1 \n",
    "        data,_ = data\n",
    "        data = data.to(get_device())\n",
    "        data = data\n",
    "#         print(data.shape)\n",
    "        optimizer.zero_grad()\n",
    "        reconstruction, mu, logvar = model(data)\n",
    "        bce_loss = criterion(reconstruction, data)\n",
    "        loss = final_loss(bce_loss, mu, logvar)\n",
    "        loss.backward()\n",
    "        optimizer.step()\n",
    "        running_loss += loss.item()\n",
    "        \n",
    "        \n",
    "    epoch_loss = running_loss/counter\n",
    "    print(f\"Training Loss: {epoch_loss:.3f}\")\n",
    "    outputs = reconstruction.view(reconstruction.size(0), 1, 28, 28).cpu().data\n",
    "    save_image(outputs, f\"./output/images/reconstruction{epoch}.png\")\n",
    "    \n",
    "    return epoch_loss"
   ]
  },
  {
   "cell_type": "markdown",
   "metadata": {},
   "source": [
    "### Validation Function:"
   ]
  },
  {
   "cell_type": "code",
   "execution_count": 11,
   "metadata": {},
   "outputs": [],
   "source": [
    "def validate(model, dataloader, epoch):\n",
    "    print(\"Validating.....\")\n",
    "    model.eval()\n",
    "    running_loss = 0.0 \n",
    "    counter = 0 \n",
    "    with torch.no_grad():\n",
    "        for i, data in enumerate(dataloader):\n",
    "            counter += 1\n",
    "            img, _ = data \n",
    "            img = img.to(get_device())\n",
    "            reconstruction, mu, logvar = model(img)\n",
    "            bce_loss = criterion(reconstruction, img)\n",
    "            loss = final_loss(bce_loss, mu, logvar)\n",
    "            running_loss += loss.item()\n",
    "            \n",
    "    epoch_loss = running_loss/counter\n",
    "    print(f\"val loss: {epoch_loss:.3f}\")\n",
    "    # Save Reconstructed Image\n",
    "    outputs = reconstruction.view(reconstruction.size(0),1,28,28).cpu().data\n",
    "    save_image(outputs, f\"./output/images/reconstuction_val{epoch}.png\")\n",
    "    \n",
    "    return epoch_loss"
   ]
  },
  {
   "cell_type": "markdown",
   "metadata": {},
   "source": [
    "### Model Training:"
   ]
  },
  {
   "cell_type": "code",
   "execution_count": 12,
   "metadata": {},
   "outputs": [
    {
     "name": "stdout",
     "output_type": "stream",
     "text": [
      "(1/5)\n",
      "Training.....\n",
      "Training Loss: 13265.088\n",
      "Validating.....\n",
      "val loss: 12567.582\n",
      "(2/5)\n",
      "Training.....\n",
      "Training Loss: 12488.217\n",
      "Validating.....\n",
      "val loss: 12427.780\n",
      "(3/5)\n",
      "Training.....\n",
      "Training Loss: 12415.741\n",
      "Validating.....\n",
      "val loss: 12404.398\n",
      "(4/5)\n",
      "Training.....\n",
      "Training Loss: 12393.280\n",
      "Validating.....\n",
      "val loss: 12384.255\n",
      "(5/5)\n",
      "Training.....\n",
      "Training Loss: 12381.066\n",
      "Validating.....\n",
      "val loss: 12372.145\n",
      "Total time to run the model: 68.832 minutes\n"
     ]
    }
   ],
   "source": [
    "train_loss = []\n",
    "val_loss = []\n",
    "start = time.time()\n",
    "for epoch in range(params['epochs']):\n",
    "    print(f\"({epoch+1}/{params['epochs']})\")\n",
    "    train_epoch_loss = fit(model, dataloader_train, epoch)\n",
    "    val_epoch_loss = validate(model, dataloader_test, epoch)\n",
    "    train_loss.append(train_epoch_loss)\n",
    "    val_loss.append(val_epoch_loss)\n",
    "end = time.time()\n",
    "print(f\"Total time to run the model: {(end-start)/60:.3f} minutes\")"
   ]
  },
  {
   "cell_type": "markdown",
   "metadata": {},
   "source": [
    "### Training and Validation Loss Visualization:"
   ]
  },
  {
   "cell_type": "code",
   "execution_count": 13,
   "metadata": {},
   "outputs": [
    {
     "data": {
      "image/png": "[encoded data removed]",
      "text/plain": [
       "<Figure size 720x504 with 1 Axes>"
      ]
     },
     "metadata": {
      "needs_background": "light"
     },
     "output_type": "display_data"
    }
   ],
   "source": [
    "plt.figure(figsize=(10,7))\n",
    "plt.plot(train_loss, color='orange', label='train_loss')\n",
    "plt.plot(val_loss, color='red', label='validation loss')\n",
    "plt.xlabel(\"Epochs\")\n",
    "plt.ylabel(\"Loss\")\n",
    "plt.legend()\n",
    "plt.savefig(\"./output/loss.png\")\n",
    "plt.show()"
   ]
  },
  {
   "cell_type": "markdown",
   "metadata": {},
   "source": [
    "### Model Saving:"
   ]
  },
  {
   "cell_type": "code",
   "execution_count": 14,
   "metadata": {},
   "outputs": [],
   "source": [
    "torch.save(model.state_dict(), f\"./output/convolution_autoEncoder.pth\")"
   ]
  }
 ],
 "metadata": {
  "kernelspec": {
   "display_name": "Python 3",
   "language": "python",
   "name": "python3"
  },
  "language_info": {
   "codemirror_mode": {
    "name": "ipython",
    "version": 3
   },
   "file_extension": ".py",
   "mimetype": "text/x-python",
   "name": "python",
   "nbconvert_exporter": "python",
   "pygments_lexer": "ipython3",
   "version": "3.6.8"
  }
 },
 "nbformat": 4,
 "nbformat_minor": 4
}
